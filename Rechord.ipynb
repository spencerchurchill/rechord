{
 "cells": [
  {
   "cell_type": "markdown",
   "metadata": {},
   "source": [
    "# Rechord\n",
    "\n",
    "## Automatic sheet music composition"
   ]
  },
  {
   "cell_type": "markdown",
   "metadata": {},
   "source": [
    "Import libraries:\n",
    "pip install numpy pyaudio scipy music21"
   ]
  },
  {
   "cell_type": "code",
   "execution_count": 1,
   "metadata": {},
   "outputs": [],
   "source": [
    "import numpy as np\n",
    "import pyaudio\n",
    "import struct\n",
    "from scipy.fftpack import fft\n",
    "import music21 # install musescore"
   ]
  },
  {
   "cell_type": "code",
   "execution_count": 2,
   "metadata": {},
   "outputs": [],
   "source": [
    "def display(key, hz):\n",
    "    note = scale[(key - 1) % 12] + str((key+8) // 12) # note as string\n",
    "    notes.append(note)\n",
    "\n",
    "    print(note, '\\t', hz)"
   ]
  },
  {
   "cell_type": "markdown",
   "metadata": {},
   "source": [
    "### Functions"
   ]
  },
  {
   "cell_type": "markdown",
   "metadata": {},
   "source": [
    "Convert frequencies to keys"
   ]
  },
  {
   "cell_type": "code",
   "execution_count": 3,
   "metadata": {},
   "outputs": [],
   "source": [
    "def conv(fs):\n",
    "    fs_max = -np.sort(-fs)\n",
    "\n",
    "    key = None\n",
    "    i = 0\n",
    "    while not key:\n",
    "        i += 1\n",
    "        hz = round((np.where(fs == fs_max[i])[0][0]) * RATE / CHUNK) # convert FFT to hz\n",
    "        note = int(round(12 * np.log2(hz/440) + 49)) # hz to note on piano\n",
    "\n",
    "        if note > 0 and note < 109:\n",
    "            key = note\n",
    "    \n",
    "    return key, hz"
   ]
  },
  {
   "cell_type": "markdown",
   "metadata": {},
   "source": [
    "Audio input stream function"
   ]
  },
  {
   "cell_type": "code",
   "execution_count": 4,
   "metadata": {},
   "outputs": [],
   "source": [
    "def record(rests = True):\n",
    "    print(\"stream started\\n\")\n",
    "\n",
    "    try:\n",
    "        while True:\n",
    "            data = stream.read(CHUNK, exception_on_overflow=False)\n",
    "            data_int = struct.unpack(str(2 * CHUNK) + 'B', data)\n",
    "            data_np = np.array(data_int, dtype='b')[::2] + 128\n",
    "\n",
    "            if np.percentile(np.abs(data_np), 90) >= 200: # check volume if a note is being played\n",
    "                # compute FFT and update line\n",
    "                fs = np.abs(fft(data_int)[0:CHUNK])\n",
    "\n",
    "                key, hz = conv(fs)\n",
    "                display(key, hz)\n",
    "            elif rests:\n",
    "                notes.append('r')\n",
    "                # continue\n",
    "\n",
    "    except KeyboardInterrupt:\n",
    "        p.close(stream)\n",
    "        print(\"\\n\\nstream ended\\n\\n\")"
   ]
  },
  {
   "cell_type": "markdown",
   "metadata": {},
   "source": [
    "Convert notes to sheet music using music21"
   ]
  },
  {
   "cell_type": "code",
   "execution_count": 5,
   "metadata": {},
   "outputs": [],
   "source": [
    "def transcribe(notes): # optimize length algorithm\n",
    "    for i, note in enumerate(notes):\n",
    "        try:\n",
    "            octave = int(note[-1])\n",
    "\n",
    "            if octave == 0:\n",
    "                notes[i] = note[:-1].upper() * 4\n",
    "            elif octave == 1:\n",
    "                notes[i] = note[:-1].upper() * 3\n",
    "            elif octave == 2:\n",
    "                notes[i] = note[:-1].upper() * 2\n",
    "            elif octave == 3:\n",
    "                notes[i] = note[:-1].upper()\n",
    "            elif octave == 4:\n",
    "                notes[i] = note[:-1].lower()\n",
    "            elif octave == 5:\n",
    "                notes[i] = note[:-1].lower() + \"'\"\n",
    "            elif octave == 6:\n",
    "                notes[i] = note[:-1].lower() + \"'\" * 2\n",
    "            elif octave == 7:\n",
    "                notes[i] = note[:-1].lower() + \"'\" * 3\n",
    "            elif octave == 8:\n",
    "                notes[i] = note[:-1].lower() + \"'\" * 4\n",
    "        except:\n",
    "            continue\n",
    "\n",
    "    music = []\n",
    "    nps = 12 # in 1 second, the program records 12 notes\n",
    "    i = j = 0\n",
    "    while i < len(notes):\n",
    "        try:\n",
    "            if notes[i] == notes[j]:\n",
    "                j += 1\n",
    "            else:\n",
    "                dur = str(min([1,2,4,8,16,32], key=lambda x:abs(x-(round(1 / (j - i) * nps)))))\n",
    "                music.append(notes[i] + dur)\n",
    "                i = j\n",
    "        except IndexError:\n",
    "            dur = str(min([1,2,4,8,16,32,64], key=lambda x:abs(x-(round(1 / (j - i) * nps)))))\n",
    "            music.append(notes[i] + dur)\n",
    "            i = j\n",
    "            i += 1\n",
    "\n",
    "    # print(\"music21.converter.parse(\\\"tinynotation: 4/4 \" + \" \".join(music) + \"\\\").show()\")\n",
    "\n",
    "    music21.converter.parse(\"tinynotation: 4/4 \" + \" \".join(music)).show()\n",
    "    # octave: 0, CCCC | 1, CCC | 2, CC | 3, C | 4, c| 5, c' | 6, c'' | 7, c''' | 8, c'''' |"
   ]
  },
  {
   "cell_type": "markdown",
   "metadata": {},
   "source": [
    "Define variable constants"
   ]
  },
  {
   "cell_type": "code",
   "execution_count": 6,
   "metadata": {},
   "outputs": [],
   "source": [
    "# stream constants\n",
    "CHUNK = 1024 * 2\n",
    "FORMAT = pyaudio.paInt16\n",
    "CHANNELS = 1\n",
    "RATE = 22050\n",
    "\n",
    "# stream object\n",
    "p = pyaudio.PyAudio()\n",
    "stream = p.open(\n",
    "    format=FORMAT,\n",
    "    channels=CHANNELS,\n",
    "    rate=RATE,\n",
    "    input=True,\n",
    "    output=True,\n",
    "    frames_per_buffer=CHUNK,\n",
    ")\n",
    "\n",
    "scale = [\"a\", \"a#\", \"b\", \"c\", \"c#\", \"d\", \"d#\", \"e\", \"f\", \"f#\", \"g\", \"g#\"]\n",
    "\n",
    "notes = []"
   ]
  },
  {
   "cell_type": "markdown",
   "metadata": {},
   "source": [
    "### Conversion program"
   ]
  },
  {
   "cell_type": "markdown",
   "metadata": {},
   "source": [
    "Record audio and transcribe frequencies to sheet music"
   ]
  },
  {
   "cell_type": "code",
   "execution_count": 7,
   "metadata": {
    "scrolled": false
   },
   "outputs": [
    {
     "name": "stdout",
     "output_type": "stream",
     "text": [
      "stream started\n",
      "\n",
      "a5 \t 872.0\n",
      "a5 \t 883.0\n",
      "a5 \t 883.0\n",
      "a5 \t 883.0\n",
      "a5 \t 883.0\n",
      "a5 \t 883.0\n",
      "a5 \t 883.0\n",
      "a5 \t 883.0\n",
      "a5 \t 883.0\n",
      "a5 \t 883.0\n",
      "b5 \t 991.0\n",
      "b5 \t 991.0\n",
      "b5 \t 991.0\n",
      "b5 \t 991.0\n",
      "b5 \t 991.0\n",
      "c6 \t 1044.0\n",
      "c6 \t 1044.0\n",
      "c6 \t 1044.0\n",
      "c6 \t 1044.0\n",
      "c6 \t 1044.0\n",
      "c6 \t 1044.0\n",
      "c6 \t 1044.0\n",
      "\n",
      "\n",
      "stream ended\n",
      "\n",
      "\n"
     ]
    }
   ],
   "source": [
    "record(rests=False) # interrupt to end stream"
   ]
  },
  {
   "cell_type": "code",
   "execution_count": 8,
   "metadata": {
    "scrolled": false
   },
   "outputs": [
    {
     "data": {
      "image/png": "[encoded data removed]",
      "text/plain": [
       "<IPython.core.display.Image object>"
      ]
     },
     "metadata": {
      "image/png": {
       "height": 55,
       "width": 258
      }
     },
     "output_type": "display_data"
    }
   ],
   "source": [
    "transcribe(notes)"
   ]
  }
 ],
 "metadata": {
  "kernelspec": {
   "display_name": "Python 3",
   "language": "python",
   "name": "python3"
  },
  "language_info": {
   "codemirror_mode": {
    "name": "ipython",
    "version": 3
   },
   "file_extension": ".py",
   "mimetype": "text/x-python",
   "name": "python",
   "nbconvert_exporter": "python",
   "pygments_lexer": "ipython3",
   "version": "3.7.3"
  }
 },
 "nbformat": 4,
 "nbformat_minor": 2
}
